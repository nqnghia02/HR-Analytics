{
  "cells": [
    {
      "cell_type": "code",
      "execution_count": null,
      "metadata": {
        "colab": {
          "base_uri": "https://localhost:8080/"
        },
        "id": "_WLHz5p6M98v",
        "outputId": "ec1236ff-8dd0-4c26-8d04-916bc68acc74"
      },
      "outputs": [
        {
          "name": "stdout",
          "output_type": "stream",
          "text": [
            "Mounted at /content/drive\n"
          ]
        }
      ],
      "source": [
        "# from google.colab import drive\n",
        "# drive.mount('/content/drive')"
      ]
    },
    {
      "cell_type": "code",
      "execution_count": 3,
      "metadata": {
        "colab": {
          "base_uri": "https://localhost:8080/"
        },
        "id": "WkzX6GUkNPAb",
        "outputId": "53928bdf-8655-4486-9b6f-ee2f6adb1f20"
      },
      "outputs": [
        {
          "name": "stdout",
          "output_type": "stream",
          "text": [
            "Requirement already satisfied: optuna in /usr/local/lib/python3.11/dist-packages (4.3.0)\n",
            "Requirement already satisfied: alembic>=1.5.0 in /usr/local/lib/python3.11/dist-packages (from optuna) (1.16.1)\n",
            "Requirement already satisfied: colorlog in /usr/local/lib/python3.11/dist-packages (from optuna) (6.9.0)\n",
            "Requirement already satisfied: numpy in /usr/local/lib/python3.11/dist-packages (from optuna) (2.0.2)\n",
            "Requirement already satisfied: packaging>=20.0 in /usr/local/lib/python3.11/dist-packages (from optuna) (24.2)\n",
            "Requirement already satisfied: sqlalchemy>=1.4.2 in /usr/local/lib/python3.11/dist-packages (from optuna) (2.0.41)\n",
            "Requirement already satisfied: tqdm in /usr/local/lib/python3.11/dist-packages (from optuna) (4.67.1)\n",
            "Requirement already satisfied: PyYAML in /usr/local/lib/python3.11/dist-packages (from optuna) (6.0.2)\n",
            "Requirement already satisfied: Mako in /usr/lib/python3/dist-packages (from alembic>=1.5.0->optuna) (1.1.3)\n",
            "Requirement already satisfied: typing-extensions>=4.12 in /usr/local/lib/python3.11/dist-packages (from alembic>=1.5.0->optuna) (4.14.0)\n",
            "Requirement already satisfied: greenlet>=1 in /usr/local/lib/python3.11/dist-packages (from sqlalchemy>=1.4.2->optuna) (3.2.2)\n"
          ]
        }
      ],
      "source": [
        "!pip install optuna"
      ]
    },
    {
      "cell_type": "code",
      "execution_count": 1,
      "metadata": {
        "id": "5mCqos3nNPDh"
      },
      "outputs": [],
      "source": [
        "import pandas as pd\n",
        "import optuna\n",
        "optuna.logging.set_verbosity(optuna.logging.ERROR)\n",
        "from sklearn.ensemble import RandomForestClassifier\n",
        "from sklearn.model_selection import StratifiedKFold, cross_val_predict, train_test_split\n",
        "from sklearn.metrics import precision_score, recall_score, f1_score, roc_auc_score\n",
        "from sklearn.model_selection import cross_val_score\n",
        "import logging\n",
        "import pickle\n",
        "from sklearn.metrics import classification_report\n",
        "import warnings\n",
        "warnings.filterwarnings(\"ignore\", category=UserWarning)\n",
        "warnings.filterwarnings(\"ignore\", category=RuntimeWarning)\n"
      ]
    },
    {
      "cell_type": "code",
      "execution_count": 2,
      "metadata": {
        "id": "s9O2fEl9NPGH"
      },
      "outputs": [],
      "source": [
        "# df = pd.read_csv(\"/content/drive/MyDrive/train_data_attrition_scaling.csv\")\n",
        "df = pd.read_csv(\"C:/Users/HP/Pictures/agithub/data/processed/processed_scaling/train_data_attrition_scaling.csv\")"
      ]
    },
    {
      "cell_type": "code",
      "execution_count": 3,
      "metadata": {
        "id": "hLcko4aTNPJd"
      },
      "outputs": [],
      "source": [
        "# Đọc dữ liệu và tách features - target\n",
        "X = df.drop(columns=['Attrition'],axis=1)\n",
        "y = df['Attrition']"
      ]
    },
    {
      "cell_type": "code",
      "execution_count": 4,
      "metadata": {
        "id": "npMA2Aisj-AI"
      },
      "outputs": [],
      "source": [
        "# Tách tập train và test\n",
        "X_train, X_test, y_train, y_test = train_test_split(X, y, test_size=0.3, stratify=y, random_state=42)"
      ]
    },
    {
      "cell_type": "code",
      "execution_count": 5,
      "metadata": {
        "id": "gJ5umglAkFMg"
      },
      "outputs": [],
      "source": [
        "# Cấu hình logger\n",
        "logging.basicConfig(level=logging.INFO)\n",
        "logger = logging.getLogger(__name__)"
      ]
    },
    {
      "cell_type": "code",
      "execution_count": 6,
      "metadata": {
        "id": "y2MIcexbNlw1"
      },
      "outputs": [],
      "source": [
        "# Hàm tối ưu hóa\n",
        "def objective_rf(trial):\n",
        "    try:\n",
        "        params = {\n",
        "            'n_estimators': trial.suggest_int('n_estimators', 50, 300),\n",
        "            'max_depth': trial.suggest_int('max_depth', 3, 20),\n",
        "            'min_samples_split': trial.suggest_int('min_samples_split', 2, 10),\n",
        "            'max_features': trial.suggest_categorical('max_features', ['sqrt', 'log2']),\n",
        "            'criterion': trial.suggest_categorical('criterion', ['gini', 'entropy']),\n",
        "            'class_weight': 'balanced',  # để xử lý imbalance\n",
        "            'random_state': 42\n",
        "        }\n",
        "\n",
        "        model = RandomForestClassifier(**params)\n",
        "        cv = StratifiedKFold(n_splits=5, shuffle=True, random_state=42)\n",
        "        cv_scores = cross_val_score(model, X_train, y_train, cv=cv, scoring='f1')\n",
        "\n",
        "        f1_mean = cv_scores.mean()\n",
        "        model.fit(X_train, y_train)\n",
        "        y_pred = model.predict(X_test)\n",
        "        y_proba = model.predict_proba(X_test)[:, 1]\n",
        "\n",
        "        recall = recall_score(y_test, y_pred)\n",
        "        precision = precision_score(y_test, y_pred)\n",
        "        roc_auc = roc_auc_score(y_test, y_proba)\n",
        "\n",
        "        trial.set_user_attr('recall', recall)\n",
        "        trial.set_user_attr('precision', precision)\n",
        "        trial.set_user_attr('roc_auc', roc_auc)\n",
        "\n",
        "        logger.info(f\"Trial {trial.number}: F1={f1_mean:.4f}, Recall={recall:.4f}, Precision={precision:.4f}, ROC AUC={roc_auc:.4f}\")\n",
        "        return f1_mean\n",
        "\n",
        "    except Exception as e:\n",
        "        logger.error(f\"Trial {trial.number} failed: {str(e)}\")\n",
        "        return 0.0"
      ]
    },
    {
      "cell_type": "code",
      "execution_count": 7,
      "metadata": {
        "id": "qs0mHBj4Npvm"
      },
      "outputs": [
        {
          "name": "stderr",
          "output_type": "stream",
          "text": [
            "INFO:__main__:Trial 0: F1=0.8913, Recall=0.8771, Precision=0.8922, ROC AUC=0.9525\n",
            "INFO:__main__:Trial 1: F1=0.8471, Recall=0.8093, Precision=0.8093, ROC AUC=0.8797\n",
            "INFO:__main__:Trial 2: F1=0.8962, Recall=0.8771, Precision=0.8809, ROC AUC=0.9462\n",
            "INFO:__main__:Trial 3: F1=0.8444, Recall=0.8008, Precision=0.8077, ROC AUC=0.8746\n",
            "INFO:__main__:Trial 4: F1=0.8879, Recall=0.8729, Precision=0.8803, ROC AUC=0.9431\n",
            "INFO:__main__:Trial 5: F1=0.8791, Recall=0.8602, Precision=0.8712, ROC AUC=0.9375\n",
            "INFO:__main__:Trial 6: F1=0.8946, Recall=0.8814, Precision=0.8776, ROC AUC=0.9446\n",
            "INFO:__main__:Trial 7: F1=0.8947, Recall=0.8771, Precision=0.9000, ROC AUC=0.9518\n",
            "INFO:__main__:Trial 8: F1=0.8869, Recall=0.8771, Precision=0.8809, ROC AUC=0.9481\n",
            "INFO:__main__:Trial 9: F1=0.8910, Recall=0.8729, Precision=0.8766, ROC AUC=0.9361\n",
            "INFO:__main__:Trial 10: F1=0.8830, Recall=0.8644, Precision=0.8755, ROC AUC=0.9442\n",
            "INFO:__main__:Trial 11: F1=0.8869, Recall=0.8729, Precision=0.8766, ROC AUC=0.9449\n",
            "INFO:__main__:Trial 12: F1=0.8856, Recall=0.8814, Precision=0.8667, ROC AUC=0.9412\n",
            "INFO:__main__:Trial 13: F1=0.8824, Recall=0.8686, Precision=0.8874, ROC AUC=0.9384\n",
            "INFO:__main__:Trial 14: F1=0.8924, Recall=0.8771, Precision=0.8771, ROC AUC=0.9461\n",
            "INFO:__main__:Trial 15: F1=0.8890, Recall=0.8814, Precision=0.8966, ROC AUC=0.9505\n",
            "INFO:__main__:Trial 16: F1=0.8894, Recall=0.8814, Precision=0.8851, ROC AUC=0.9464\n",
            "INFO:__main__:Trial 17: F1=0.8973, Recall=0.9068, Precision=0.9030, ROC AUC=0.9505\n",
            "INFO:__main__:Trial 18: F1=0.8847, Recall=0.8771, Precision=0.8661, ROC AUC=0.9380\n",
            "INFO:__main__:Trial 19: F1=0.8862, Recall=0.8771, Precision=0.8809, ROC AUC=0.9462\n",
            "INFO:__main__:Trial 20: F1=0.8920, Recall=0.8686, Precision=0.8723, ROC AUC=0.9398\n",
            "INFO:__main__:Trial 21: F1=0.9011, Recall=0.9068, Precision=0.8917, ROC AUC=0.9493\n",
            "INFO:__main__:Trial 22: F1=0.9016, Recall=0.9025, Precision=0.8950, ROC AUC=0.9496\n",
            "INFO:__main__:Trial 23: F1=0.8996, Recall=0.8983, Precision=0.8983, ROC AUC=0.9496\n",
            "INFO:__main__:Trial 24: F1=0.8988, Recall=0.9068, Precision=0.8880, ROC AUC=0.9484\n",
            "INFO:__main__:Trial 25: F1=0.8887, Recall=0.8941, Precision=0.8828, ROC AUC=0.9488\n",
            "INFO:__main__:Trial 26: F1=0.8927, Recall=0.8983, Precision=0.8833, ROC AUC=0.9469\n",
            "INFO:__main__:Trial 27: F1=0.8886, Recall=0.8983, Precision=0.8870, ROC AUC=0.9504\n",
            "INFO:__main__:Trial 28: F1=0.8943, Recall=0.9025, Precision=0.8802, ROC AUC=0.9497\n",
            "INFO:__main__:Trial 29: F1=0.8989, Recall=0.8983, Precision=0.8945, ROC AUC=0.9516\n",
            "INFO:__main__:Trial 30: F1=0.8940, Recall=0.8856, Precision=0.8856, ROC AUC=0.9494\n",
            "INFO:__main__:Trial 31: F1=0.8989, Recall=0.8941, Precision=0.8941, ROC AUC=0.9522\n",
            "INFO:__main__:Trial 32: F1=0.8984, Recall=0.9068, Precision=0.8954, ROC AUC=0.9489\n",
            "INFO:__main__:Trial 33: F1=0.8851, Recall=0.8983, Precision=0.8908, ROC AUC=0.9504\n",
            "INFO:__main__:Trial 34: F1=0.8951, Recall=0.9068, Precision=0.9068, ROC AUC=0.9494\n",
            "INFO:__main__:Trial 35: F1=0.8974, Recall=0.8814, Precision=0.8889, ROC AUC=0.9500\n",
            "INFO:__main__:Trial 36: F1=0.8568, Recall=0.8305, Precision=0.8201, ROC AUC=0.8979\n",
            "INFO:__main__:Trial 37: F1=0.8875, Recall=0.8941, Precision=0.8828, ROC AUC=0.9488\n",
            "INFO:__main__:Trial 38: F1=0.8954, Recall=0.9068, Precision=0.8992, ROC AUC=0.9528\n",
            "INFO:__main__:Trial 39: F1=0.8922, Recall=0.8686, Precision=0.8761, ROC AUC=0.9460\n",
            "INFO:__main__:Trial 40: F1=0.8257, Recall=0.7797, Precision=0.7830, ROC AUC=0.8545\n",
            "INFO:__main__:Trial 41: F1=0.8989, Recall=0.8983, Precision=0.8945, ROC AUC=0.9516\n",
            "INFO:__main__:Trial 42: F1=0.8985, Recall=0.8983, Precision=0.8908, ROC AUC=0.9528\n",
            "INFO:__main__:Trial 43: F1=0.9009, Recall=0.8814, Precision=0.8927, ROC AUC=0.9493\n",
            "INFO:__main__:Trial 44: F1=0.8975, Recall=0.8814, Precision=0.8966, ROC AUC=0.9489\n",
            "INFO:__main__:Trial 45: F1=0.8960, Recall=0.8814, Precision=0.8927, ROC AUC=0.9490\n",
            "INFO:__main__:Trial 46: F1=0.8986, Recall=0.8771, Precision=0.8961, ROC AUC=0.9495\n",
            "INFO:__main__:Trial 47: F1=0.8896, Recall=0.8729, Precision=0.8918, ROC AUC=0.9518\n",
            "INFO:__main__:Trial 48: F1=0.8960, Recall=0.8856, Precision=0.8894, ROC AUC=0.9499\n",
            "INFO:__main__:Trial 49: F1=0.8734, Recall=0.8729, Precision=0.8443, ROC AUC=0.9314\n",
            "INFO:__main__:Trial 50: F1=0.8972, Recall=0.8898, Precision=0.8936, ROC AUC=0.9529\n",
            "INFO:__main__:Trial 51: F1=0.8975, Recall=0.9068, Precision=0.9030, ROC AUC=0.9527\n",
            "INFO:__main__:Trial 52: F1=0.8942, Recall=0.8983, Precision=0.8983, ROC AUC=0.9532\n",
            "INFO:__main__:Trial 53: F1=0.8928, Recall=0.9068, Precision=0.9030, ROC AUC=0.9525\n",
            "INFO:__main__:Trial 54: F1=0.8961, Recall=0.8941, Precision=0.8828, ROC AUC=0.9520\n",
            "INFO:__main__:Trial 55: F1=0.8936, Recall=0.8898, Precision=0.8898, ROC AUC=0.9518\n",
            "INFO:__main__:Trial 56: F1=0.8871, Recall=0.8771, Precision=0.8771, ROC AUC=0.9448\n",
            "INFO:__main__:Trial 57: F1=0.8863, Recall=0.9068, Precision=0.8880, ROC AUC=0.9497\n",
            "INFO:__main__:Trial 58: F1=0.8967, Recall=0.9025, Precision=0.9025, ROC AUC=0.9526\n",
            "INFO:__main__:Trial 59: F1=0.8922, Recall=0.8814, Precision=0.8814, ROC AUC=0.9424\n",
            "INFO:__main__:Trial 60: F1=0.9005, Recall=0.8898, Precision=0.8861, ROC AUC=0.9521\n",
            "INFO:__main__:Trial 61: F1=0.9015, Recall=0.8898, Precision=0.8861, ROC AUC=0.9518\n",
            "INFO:__main__:Trial 62: F1=0.8994, Recall=0.8898, Precision=0.8861, ROC AUC=0.9520\n",
            "INFO:__main__:Trial 63: F1=0.9024, Recall=0.8898, Precision=0.8898, ROC AUC=0.9520\n",
            "INFO:__main__:Trial 64: F1=0.9013, Recall=0.8771, Precision=0.8884, ROC AUC=0.9510\n",
            "INFO:__main__:Trial 65: F1=0.8986, Recall=0.8771, Precision=0.8922, ROC AUC=0.9511\n",
            "INFO:__main__:Trial 66: F1=0.8971, Recall=0.8983, Precision=0.8908, ROC AUC=0.9521\n",
            "INFO:__main__:Trial 67: F1=0.9011, Recall=0.8898, Precision=0.8861, ROC AUC=0.9523\n",
            "INFO:__main__:Trial 68: F1=0.8971, Recall=0.8983, Precision=0.8908, ROC AUC=0.9521\n",
            "INFO:__main__:Trial 69: F1=0.9004, Recall=0.8771, Precision=0.8922, ROC AUC=0.9507\n",
            "INFO:__main__:Trial 70: F1=0.8835, Recall=0.8644, Precision=0.8908, ROC AUC=0.9397\n",
            "INFO:__main__:Trial 71: F1=0.8995, Recall=0.8898, Precision=0.8861, ROC AUC=0.9522\n",
            "INFO:__main__:Trial 72: F1=0.8990, Recall=0.8771, Precision=0.8922, ROC AUC=0.9503\n",
            "INFO:__main__:Trial 73: F1=0.9001, Recall=0.8856, Precision=0.8894, ROC AUC=0.9506\n",
            "INFO:__main__:Trial 74: F1=0.9002, Recall=0.8898, Precision=0.8861, ROC AUC=0.9517\n",
            "INFO:__main__:Trial 75: F1=0.8983, Recall=0.8856, Precision=0.8932, ROC AUC=0.9515\n",
            "INFO:__main__:Trial 76: F1=0.8817, Recall=0.8729, Precision=0.8996, ROC AUC=0.9443\n",
            "INFO:__main__:Trial 77: F1=0.8849, Recall=0.8814, Precision=0.8814, ROC AUC=0.9492\n",
            "INFO:__main__:Trial 78: F1=0.8973, Recall=0.8856, Precision=0.8932, ROC AUC=0.9477\n",
            "INFO:__main__:Trial 79: F1=0.9036, Recall=0.8856, Precision=0.8970, ROC AUC=0.9515\n",
            "INFO:__main__:Trial 80: F1=0.9017, Recall=0.8814, Precision=0.8927, ROC AUC=0.9522\n",
            "INFO:__main__:Trial 81: F1=0.9015, Recall=0.8814, Precision=0.8927, ROC AUC=0.9505\n",
            "INFO:__main__:Trial 82: F1=0.9032, Recall=0.8814, Precision=0.8966, ROC AUC=0.9505\n",
            "INFO:__main__:Trial 83: F1=0.8839, Recall=0.8644, Precision=0.8908, ROC AUC=0.9433\n",
            "INFO:__main__:Trial 84: F1=0.9042, Recall=0.8814, Precision=0.8927, ROC AUC=0.9503\n",
            "INFO:__main__:Trial 85: F1=0.9016, Recall=0.8856, Precision=0.8932, ROC AUC=0.9513\n",
            "INFO:__main__:Trial 86: F1=0.8976, Recall=0.8856, Precision=0.8932, ROC AUC=0.9515\n",
            "INFO:__main__:Trial 87: F1=0.9003, Recall=0.8856, Precision=0.8932, ROC AUC=0.9525\n",
            "INFO:__main__:Trial 88: F1=0.9007, Recall=0.8814, Precision=0.8889, ROC AUC=0.9495\n",
            "INFO:__main__:Trial 89: F1=0.8976, Recall=0.8856, Precision=0.8932, ROC AUC=0.9515\n",
            "INFO:__main__:Trial 90: F1=0.9042, Recall=0.8814, Precision=0.8927, ROC AUC=0.9503\n",
            "INFO:__main__:Trial 91: F1=0.9053, Recall=0.8814, Precision=0.8927, ROC AUC=0.9498\n",
            "INFO:__main__:Trial 92: F1=0.9056, Recall=0.8814, Precision=0.8966, ROC AUC=0.9496\n",
            "INFO:__main__:Trial 93: F1=0.9036, Recall=0.8729, Precision=0.8879, ROC AUC=0.9496\n",
            "INFO:__main__:Trial 94: F1=0.9038, Recall=0.8729, Precision=0.8879, ROC AUC=0.9496\n",
            "INFO:__main__:Trial 95: F1=0.8984, Recall=0.8856, Precision=0.8932, ROC AUC=0.9528\n",
            "INFO:__main__:Trial 96: F1=0.9017, Recall=0.8771, Precision=0.8922, ROC AUC=0.9491\n",
            "INFO:__main__:Trial 97: F1=0.9045, Recall=0.8814, Precision=0.8927, ROC AUC=0.9496\n",
            "INFO:__main__:Trial 98: F1=0.9027, Recall=0.8814, Precision=0.8889, ROC AUC=0.9495\n",
            "INFO:__main__:Trial 99: F1=0.9036, Recall=0.8771, Precision=0.8961, ROC AUC=0.9500\n"
          ]
        }
      ],
      "source": [
        "# Tối ưu hóa\n",
        "study = optuna.create_study(direction='maximize')\n",
        "study.optimize(objective_rf, n_trials=100)"
      ]
    },
    {
      "cell_type": "code",
      "execution_count": 8,
      "metadata": {
        "colab": {
          "base_uri": "https://localhost:8080/"
        },
        "id": "42gN-W4lNuEd",
        "outputId": "fd8b89a1-985b-420f-da49-a15e9b7f447d"
      },
      "outputs": [
        {
          "name": "stdout",
          "output_type": "stream",
          "text": [
            "\n",
            "Tham số tốt nhất cho Random Forest:\n",
            "{'n_estimators': 273, 'max_depth': 17, 'min_samples_split': 2, 'max_features': 'sqrt', 'criterion': 'gini'}\n",
            " F1 Score cross-validated tốt nhất: 0.9056\n",
            " Recall trên tập test: 0.8814\n",
            " Precision trên tập test: 0.8966\n",
            " ROC AUC trên tập test: 0.9496\n"
          ]
        }
      ],
      "source": [
        "# Lấy trial tốt nhất\n",
        "best_trial = study.best_trial\n",
        "print(\"\\nTham số tốt nhất cho Random Forest:\")\n",
        "print(best_trial.params)\n",
        "print(f\" F1 Score cross-validated tốt nhất: {best_trial.value:.4f}\")\n",
        "print(f\" Recall trên tập test: {best_trial.user_attrs['recall']:.4f}\")\n",
        "print(f\" Precision trên tập test: {best_trial.user_attrs['precision']:.4f}\")\n",
        "print(f\" ROC AUC trên tập test: {best_trial.user_attrs['roc_auc']:.4f}\")"
      ]
    },
    {
      "cell_type": "code",
      "execution_count": 9,
      "metadata": {
        "colab": {
          "base_uri": "https://localhost:8080/",
          "height": 98
        },
        "id": "iXg2xgpiN2zu",
        "outputId": "a044f0dd-4456-4520-c16e-b09a3cb92aed"
      },
      "outputs": [
        {
          "data": {
            "text/html": [
              "<style>#sk-container-id-1 {color: black;background-color: white;}#sk-container-id-1 pre{padding: 0;}#sk-container-id-1 div.sk-toggleable {background-color: white;}#sk-container-id-1 label.sk-toggleable__label {cursor: pointer;display: block;width: 100%;margin-bottom: 0;padding: 0.3em;box-sizing: border-box;text-align: center;}#sk-container-id-1 label.sk-toggleable__label-arrow:before {content: \"▸\";float: left;margin-right: 0.25em;color: #696969;}#sk-container-id-1 label.sk-toggleable__label-arrow:hover:before {color: black;}#sk-container-id-1 div.sk-estimator:hover label.sk-toggleable__label-arrow:before {color: black;}#sk-container-id-1 div.sk-toggleable__content {max-height: 0;max-width: 0;overflow: hidden;text-align: left;background-color: #f0f8ff;}#sk-container-id-1 div.sk-toggleable__content pre {margin: 0.2em;color: black;border-radius: 0.25em;background-color: #f0f8ff;}#sk-container-id-1 input.sk-toggleable__control:checked~div.sk-toggleable__content {max-height: 200px;max-width: 100%;overflow: auto;}#sk-container-id-1 input.sk-toggleable__control:checked~label.sk-toggleable__label-arrow:before {content: \"▾\";}#sk-container-id-1 div.sk-estimator input.sk-toggleable__control:checked~label.sk-toggleable__label {background-color: #d4ebff;}#sk-container-id-1 div.sk-label input.sk-toggleable__control:checked~label.sk-toggleable__label {background-color: #d4ebff;}#sk-container-id-1 input.sk-hidden--visually {border: 0;clip: rect(1px 1px 1px 1px);clip: rect(1px, 1px, 1px, 1px);height: 1px;margin: -1px;overflow: hidden;padding: 0;position: absolute;width: 1px;}#sk-container-id-1 div.sk-estimator {font-family: monospace;background-color: #f0f8ff;border: 1px dotted black;border-radius: 0.25em;box-sizing: border-box;margin-bottom: 0.5em;}#sk-container-id-1 div.sk-estimator:hover {background-color: #d4ebff;}#sk-container-id-1 div.sk-parallel-item::after {content: \"\";width: 100%;border-bottom: 1px solid gray;flex-grow: 1;}#sk-container-id-1 div.sk-label:hover label.sk-toggleable__label {background-color: #d4ebff;}#sk-container-id-1 div.sk-serial::before {content: \"\";position: absolute;border-left: 1px solid gray;box-sizing: border-box;top: 0;bottom: 0;left: 50%;z-index: 0;}#sk-container-id-1 div.sk-serial {display: flex;flex-direction: column;align-items: center;background-color: white;padding-right: 0.2em;padding-left: 0.2em;position: relative;}#sk-container-id-1 div.sk-item {position: relative;z-index: 1;}#sk-container-id-1 div.sk-parallel {display: flex;align-items: stretch;justify-content: center;background-color: white;position: relative;}#sk-container-id-1 div.sk-item::before, #sk-container-id-1 div.sk-parallel-item::before {content: \"\";position: absolute;border-left: 1px solid gray;box-sizing: border-box;top: 0;bottom: 0;left: 50%;z-index: -1;}#sk-container-id-1 div.sk-parallel-item {display: flex;flex-direction: column;z-index: 1;position: relative;background-color: white;}#sk-container-id-1 div.sk-parallel-item:first-child::after {align-self: flex-end;width: 50%;}#sk-container-id-1 div.sk-parallel-item:last-child::after {align-self: flex-start;width: 50%;}#sk-container-id-1 div.sk-parallel-item:only-child::after {width: 0;}#sk-container-id-1 div.sk-dashed-wrapped {border: 1px dashed gray;margin: 0 0.4em 0.5em 0.4em;box-sizing: border-box;padding-bottom: 0.4em;background-color: white;}#sk-container-id-1 div.sk-label label {font-family: monospace;font-weight: bold;display: inline-block;line-height: 1.2em;}#sk-container-id-1 div.sk-label-container {text-align: center;}#sk-container-id-1 div.sk-container {/* jupyter's `normalize.less` sets `[hidden] { display: none; }` but bootstrap.min.css set `[hidden] { display: none !important; }` so we also need the `!important` here to be able to override the default hidden behavior on the sphinx rendered scikit-learn.org. See: https://github.com/scikit-learn/scikit-learn/issues/21755 */display: inline-block !important;position: relative;}#sk-container-id-1 div.sk-text-repr-fallback {display: none;}</style><div id=\"sk-container-id-1\" class=\"sk-top-container\"><div class=\"sk-text-repr-fallback\"><pre>RandomForestClassifier(class_weight=&#x27;balanced&#x27;, max_depth=17, n_estimators=273,\n",
              "                       random_state=42)</pre><b>In a Jupyter environment, please rerun this cell to show the HTML representation or trust the notebook. <br />On GitHub, the HTML representation is unable to render, please try loading this page with nbviewer.org.</b></div><div class=\"sk-container\" hidden><div class=\"sk-item\"><div class=\"sk-estimator sk-toggleable\"><input class=\"sk-toggleable__control sk-hidden--visually\" id=\"sk-estimator-id-1\" type=\"checkbox\" checked><label for=\"sk-estimator-id-1\" class=\"sk-toggleable__label sk-toggleable__label-arrow\">RandomForestClassifier</label><div class=\"sk-toggleable__content\"><pre>RandomForestClassifier(class_weight=&#x27;balanced&#x27;, max_depth=17, n_estimators=273,\n",
              "                       random_state=42)</pre></div></div></div></div></div>"
            ],
            "text/plain": [
              "RandomForestClassifier(class_weight='balanced', max_depth=17, n_estimators=273,\n",
              "                       random_state=42)"
            ]
          },
          "execution_count": 9,
          "metadata": {},
          "output_type": "execute_result"
        }
      ],
      "source": [
        "# Train lại với toàn bộ tập huấn luyện\n",
        "final_model = RandomForestClassifier(**best_trial.params, class_weight='balanced', random_state=42)\n",
        "final_model.fit(X_train, y_train)"
      ]
    },
    {
      "cell_type": "code",
      "execution_count": 10,
      "metadata": {
        "colab": {
          "base_uri": "https://localhost:8080/"
        },
        "id": "s_ChL4w9lKHj",
        "outputId": "0c7dcc51-f268-40c4-afa4-266373f0931c"
      },
      "outputs": [
        {
          "name": "stdout",
          "output_type": "stream",
          "text": [
            "\n",
            "Đánh giá cuối cùng trên tập kiểm tra:\n",
            "F1 Score: 0.8889\n",
            "Recall: 0.8814\n",
            "Precision: 0.8966\n",
            "ROC AUC: 0.9496\n",
            "\n",
            "Báo cáo phân loại chi tiết:\n",
            "              precision    recall  f1-score   support\n",
            "\n",
            "           0      0.884     0.899     0.891       237\n",
            "           1      0.897     0.881     0.889       236\n",
            "\n",
            "    accuracy                          0.890       473\n",
            "   macro avg      0.890     0.890     0.890       473\n",
            "weighted avg      0.890     0.890     0.890       473\n",
            "\n"
          ]
        }
      ],
      "source": [
        "# Đánh giá cuối cùng trên tập kiểm tra\n",
        "y_pred = final_model.predict(X_test)\n",
        "y_proba = final_model.predict_proba(X_test)[:, 1]\n",
        "print(\"\\nĐánh giá cuối cùng trên tập kiểm tra:\")\n",
        "print(f\"F1 Score: {f1_score(y_test, y_pred):.4f}\")\n",
        "print(f\"Recall: {recall_score(y_test, y_pred):.4f}\")\n",
        "print(f\"Precision: {precision_score(y_test, y_pred):.4f}\")\n",
        "print(f\"ROC AUC: {roc_auc_score(y_test, y_proba):.4f}\")\n",
        "\n",
        "print(\"\\nBáo cáo phân loại chi tiết:\")\n",
        "print(classification_report(y_test, y_pred, digits=3))"
      ]
    },
    {
      "cell_type": "code",
      "execution_count": 11,
      "metadata": {
        "colab": {
          "base_uri": "https://localhost:8080/"
        },
        "id": "p_2PdbVQJ0VR",
        "outputId": "a955ae39-997e-44bc-e8f3-58291e4479cb"
      },
      "outputs": [
        {
          "name": "stdout",
          "output_type": "stream",
          "text": [
            "\n",
            "Mô hình đã được lưu vào 'random_forest_model.pkl'\n"
          ]
        }
      ],
      "source": [
        "# Sau khi có best_params từ Optuna\n",
        "\n",
        "# 1. Huấn luyện trên TOÀN BỘ tập train gốc\n",
        "final_model = RandomForestClassifier(\n",
        "    **best_trial.params,\n",
        "    class_weight='balanced',\n",
        "    random_state=42\n",
        ")\n",
        "final_model.fit(X, y)  # Sử dụng toàn bộ dữ liệu X, y từ file gốc\n",
        "\n",
        "# 2. Lưu mô hình\n",
        "with open('random_forest_model.pkl', 'wb') as f:\n",
        "    pickle.dump(final_model, f)\n",
        "print(\"\\nMô hình đã được lưu vào 'random_forest_model.pkl'\")"
      ]
    },
    {
      "cell_type": "code",
      "execution_count": null,
      "metadata": {},
      "outputs": [],
      "source": []
    }
  ],
  "metadata": {
    "colab": {
      "provenance": []
    },
    "kernelspec": {
      "display_name": "base",
      "language": "python",
      "name": "python3"
    },
    "language_info": {
      "codemirror_mode": {
        "name": "ipython",
        "version": 3
      },
      "file_extension": ".py",
      "mimetype": "text/x-python",
      "name": "python",
      "nbconvert_exporter": "python",
      "pygments_lexer": "ipython3",
      "version": "3.11.7"
    }
  },
  "nbformat": 4,
  "nbformat_minor": 0
}
