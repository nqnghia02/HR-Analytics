{
  "cells": [
    {
      "cell_type": "code",
      "execution_count": null,
      "metadata": {
        "colab": {
          "base_uri": "https://localhost:8080/"
        },
        "id": "_WLHz5p6M98v",
        "outputId": "ec1236ff-8dd0-4c26-8d04-916bc68acc74"
      },
      "outputs": [
        {
          "name": "stdout",
          "output_type": "stream",
          "text": [
            "Mounted at /content/drive\n"
          ]
        }
      ],
      "source": [
        "# from google.colab import drive\n",
        "# drive.mount('/content/drive')"
      ]
    },
    {
      "cell_type": "code",
      "execution_count": 1,
      "metadata": {
        "id": "5mCqos3nNPDh"
      },
      "outputs": [],
      "source": [
        "import pandas as pd\n",
        "import optuna\n",
        "optuna.logging.set_verbosity(optuna.logging.ERROR)\n",
        "from sklearn.ensemble import RandomForestClassifier\n",
        "from sklearn.model_selection import StratifiedKFold, cross_val_predict, train_test_split\n",
        "from sklearn.metrics import precision_score, recall_score, f1_score, roc_auc_score\n",
        "from sklearn.model_selection import cross_val_score\n",
        "import logging\n",
        "import pickle\n",
        "from sklearn.metrics import classification_report\n",
        "import warnings\n",
        "warnings.filterwarnings(\"ignore\", category=UserWarning)\n",
        "warnings.filterwarnings(\"ignore\", category=RuntimeWarning)\n"
      ]
    },
    {
      "cell_type": "code",
      "execution_count": 2,
      "metadata": {
        "id": "s9O2fEl9NPGH"
      },
      "outputs": [],
      "source": [
        "# df = pd.read_csv(\"/content/drive/MyDrive/train_data_attrition_scaling.csv\")\n",
        "df = pd.read_csv(r\"C:\\Users\\HP\\Pictures\\New folder\\data\\processed\\processed_scaling\\train_data_attrition_scaling.csv\")"
      ]
    },
    {
      "cell_type": "code",
      "execution_count": 3,
      "metadata": {
        "id": "hLcko4aTNPJd"
      },
      "outputs": [],
      "source": [
        "# Đọc dữ liệu và tách features - target\n",
        "X = df.drop(columns=['Attrition'],axis=1)\n",
        "y = df['Attrition']"
      ]
    },
    {
      "cell_type": "code",
      "execution_count": 4,
      "metadata": {
        "id": "npMA2Aisj-AI"
      },
      "outputs": [],
      "source": [
        "# Tách tập train và test\n",
        "X_train, X_test, y_train, y_test = train_test_split(X, y, test_size=0.3, stratify=y, random_state=42)"
      ]
    },
    {
      "cell_type": "code",
      "execution_count": 5,
      "metadata": {
        "id": "gJ5umglAkFMg"
      },
      "outputs": [],
      "source": [
        "# Cấu hình logger\n",
        "logging.basicConfig(level=logging.INFO)\n",
        "logger = logging.getLogger(__name__)"
      ]
    },
    {
      "cell_type": "code",
      "execution_count": 6,
      "metadata": {
        "id": "y2MIcexbNlw1"
      },
      "outputs": [],
      "source": [
        "# Hàm tối ưu hóa\n",
        "def objective_rf(trial):\n",
        "    try:\n",
        "        params = {\n",
        "            'n_estimators': trial.suggest_int('n_estimators', 50, 300),\n",
        "            'max_depth': trial.suggest_int('max_depth', 3, 20),\n",
        "            'min_samples_split': trial.suggest_int('min_samples_split', 2, 10),\n",
        "            'max_features': trial.suggest_categorical('max_features', ['sqrt', 'log2']),\n",
        "            'criterion': trial.suggest_categorical('criterion', ['gini', 'entropy']),\n",
        "            'class_weight': 'balanced',  # để xử lý imbalance\n",
        "            'random_state': 42\n",
        "        }\n",
        "\n",
        "        model = RandomForestClassifier(**params)\n",
        "        cv = StratifiedKFold(n_splits=5, shuffle=True, random_state=42)\n",
        "        cv_scores = cross_val_score(model, X_train, y_train, cv=cv, scoring='f1')\n",
        "\n",
        "        f1_mean = cv_scores.mean()\n",
        "        model.fit(X_train, y_train)\n",
        "        y_pred = model.predict(X_test)\n",
        "        y_proba = model.predict_proba(X_test)[:, 1]\n",
        "\n",
        "        recall = recall_score(y_test, y_pred)\n",
        "        precision = precision_score(y_test, y_pred)\n",
        "        roc_auc = roc_auc_score(y_test, y_proba)\n",
        "\n",
        "        trial.set_user_attr('recall', recall)\n",
        "        trial.set_user_attr('precision', precision)\n",
        "        trial.set_user_attr('roc_auc', roc_auc)\n",
        "\n",
        "        logger.info(f\"Trial {trial.number}: F1={f1_mean:.4f}, Recall={recall:.4f}, Precision={precision:.4f}, ROC AUC={roc_auc:.4f}\")\n",
        "        return f1_mean\n",
        "\n",
        "    except Exception as e:\n",
        "        logger.error(f\"Trial {trial.number} failed: {str(e)}\")\n",
        "        return 0.0"
      ]
    },
    {
      "cell_type": "code",
      "execution_count": 7,
      "metadata": {
        "id": "qs0mHBj4Npvm"
      },
      "outputs": [
        {
          "name": "stderr",
          "output_type": "stream",
          "text": [
            "INFO:__main__:Trial 0: F1=0.8893, Recall=0.8814, Precision=0.9123, ROC AUC=0.9514\n",
            "INFO:__main__:Trial 1: F1=0.8910, Recall=0.8771, Precision=0.8961, ROC AUC=0.9452\n",
            "INFO:__main__:Trial 2: F1=0.8779, Recall=0.8517, Precision=0.8481, ROC AUC=0.9260\n",
            "INFO:__main__:Trial 3: F1=0.8925, Recall=0.8729, Precision=0.8841, ROC AUC=0.9472\n",
            "INFO:__main__:Trial 4: F1=0.8541, Recall=0.8178, Precision=0.8248, ROC AUC=0.8970\n",
            "INFO:__main__:Trial 5: F1=0.8882, Recall=0.8771, Precision=0.8884, ROC AUC=0.9456\n",
            "INFO:__main__:Trial 6: F1=0.8817, Recall=0.8729, Precision=0.8918, ROC AUC=0.9480\n",
            "INFO:__main__:Trial 7: F1=0.8898, Recall=0.8814, Precision=0.8851, ROC AUC=0.9491\n",
            "INFO:__main__:Trial 8: F1=0.8926, Recall=0.8814, Precision=0.9043, ROC AUC=0.9466\n",
            "INFO:__main__:Trial 9: F1=0.8646, Recall=0.8347, Precision=0.8174, ROC AUC=0.9115\n",
            "INFO:__main__:Trial 10: F1=0.8909, Recall=0.8602, Precision=0.8788, ROC AUC=0.9376\n",
            "INFO:__main__:Trial 11: F1=0.8928, Recall=0.8856, Precision=0.9087, ROC AUC=0.9500\n",
            "INFO:__main__:Trial 12: F1=0.8941, Recall=0.8814, Precision=0.8927, ROC AUC=0.9467\n",
            "INFO:__main__:Trial 13: F1=0.8864, Recall=0.8814, Precision=0.8889, ROC AUC=0.9411\n",
            "INFO:__main__:Trial 14: F1=0.8284, Recall=0.7585, Precision=0.7716, ROC AUC=0.8560\n",
            "INFO:__main__:Trial 15: F1=0.8962, Recall=0.8771, Precision=0.8884, ROC AUC=0.9465\n",
            "INFO:__main__:Trial 16: F1=0.8878, Recall=0.8814, Precision=0.8927, ROC AUC=0.9412\n",
            "INFO:__main__:Trial 17: F1=0.8957, Recall=0.8814, Precision=0.8966, ROC AUC=0.9483\n",
            "INFO:__main__:Trial 18: F1=0.8782, Recall=0.8941, Precision=0.8792, ROC AUC=0.9465\n",
            "INFO:__main__:Trial 19: F1=0.8937, Recall=0.8814, Precision=0.9004, ROC AUC=0.9487\n",
            "INFO:__main__:Trial 20: F1=0.8880, Recall=0.8602, Precision=0.8943, ROC AUC=0.9441\n",
            "INFO:__main__:Trial 21: F1=0.8947, Recall=0.8856, Precision=0.9009, ROC AUC=0.9497\n",
            "INFO:__main__:Trial 22: F1=0.8928, Recall=0.8771, Precision=0.8922, ROC AUC=0.9473\n",
            "INFO:__main__:Trial 23: F1=0.9008, Recall=0.8644, Precision=0.8947, ROC AUC=0.9503\n",
            "INFO:__main__:Trial 24: F1=0.9006, Recall=0.8729, Precision=0.8996, ROC AUC=0.9492\n",
            "INFO:__main__:Trial 25: F1=0.8798, Recall=0.8729, Precision=0.9075, ROC AUC=0.9502\n",
            "INFO:__main__:Trial 26: F1=0.8884, Recall=0.8729, Precision=0.8879, ROC AUC=0.9500\n",
            "INFO:__main__:Trial 27: F1=0.8990, Recall=0.8686, Precision=0.8952, ROC AUC=0.9514\n",
            "INFO:__main__:Trial 28: F1=0.9004, Recall=0.8686, Precision=0.8874, ROC AUC=0.9485\n",
            "INFO:__main__:Trial 29: F1=0.8935, Recall=0.8771, Precision=0.8884, ROC AUC=0.9498\n",
            "INFO:__main__:Trial 30: F1=0.9025, Recall=0.8729, Precision=0.8996, ROC AUC=0.9492\n",
            "INFO:__main__:Trial 31: F1=0.9023, Recall=0.8729, Precision=0.8957, ROC AUC=0.9496\n",
            "INFO:__main__:Trial 32: F1=0.8994, Recall=0.8729, Precision=0.8996, ROC AUC=0.9500\n",
            "INFO:__main__:Trial 33: F1=0.8877, Recall=0.8729, Precision=0.8879, ROC AUC=0.9502\n",
            "INFO:__main__:Trial 34: F1=0.8876, Recall=0.8729, Precision=0.9075, ROC AUC=0.9490\n",
            "INFO:__main__:Trial 35: F1=0.8895, Recall=0.8729, Precision=0.8766, ROC AUC=0.9514\n",
            "INFO:__main__:Trial 36: F1=0.8933, Recall=0.8856, Precision=0.8932, ROC AUC=0.9496\n",
            "INFO:__main__:Trial 37: F1=0.8947, Recall=0.8814, Precision=0.9043, ROC AUC=0.9515\n",
            "INFO:__main__:Trial 38: F1=0.8899, Recall=0.8729, Precision=0.8841, ROC AUC=0.9499\n",
            "INFO:__main__:Trial 39: F1=0.8858, Recall=0.8559, Precision=0.8978, ROC AUC=0.9432\n",
            "INFO:__main__:Trial 40: F1=0.8836, Recall=0.8771, Precision=0.8625, ROC AUC=0.9386\n",
            "INFO:__main__:Trial 41: F1=0.9004, Recall=0.8686, Precision=0.8874, ROC AUC=0.9485\n",
            "INFO:__main__:Trial 42: F1=0.9014, Recall=0.8686, Precision=0.8874, ROC AUC=0.9487\n",
            "INFO:__main__:Trial 43: F1=0.8888, Recall=0.8729, Precision=0.8957, ROC AUC=0.9496\n",
            "INFO:__main__:Trial 44: F1=0.8977, Recall=0.8686, Precision=0.8952, ROC AUC=0.9503\n",
            "INFO:__main__:Trial 45: F1=0.8836, Recall=0.8729, Precision=0.8996, ROC AUC=0.9465\n",
            "INFO:__main__:Trial 46: F1=0.8966, Recall=0.8771, Precision=0.9000, ROC AUC=0.9501\n",
            "INFO:__main__:Trial 47: F1=0.8920, Recall=0.8814, Precision=0.8927, ROC AUC=0.9497\n",
            "INFO:__main__:Trial 48: F1=0.8943, Recall=0.8856, Precision=0.9009, ROC AUC=0.9497\n",
            "INFO:__main__:Trial 49: F1=0.9017, Recall=0.8602, Precision=0.9062, ROC AUC=0.9511\n",
            "INFO:__main__:Trial 50: F1=0.8990, Recall=0.8814, Precision=0.9043, ROC AUC=0.9514\n",
            "INFO:__main__:Trial 51: F1=0.9017, Recall=0.8644, Precision=0.8987, ROC AUC=0.9505\n",
            "INFO:__main__:Trial 52: F1=0.9005, Recall=0.8644, Precision=0.8947, ROC AUC=0.9502\n",
            "INFO:__main__:Trial 53: F1=0.9017, Recall=0.8602, Precision=0.9062, ROC AUC=0.9511\n",
            "INFO:__main__:Trial 54: F1=0.9009, Recall=0.8602, Precision=0.8982, ROC AUC=0.9510\n",
            "INFO:__main__:Trial 55: F1=0.8725, Recall=0.8517, Precision=0.8855, ROC AUC=0.9375\n",
            "INFO:__main__:Trial 56: F1=0.8975, Recall=0.8771, Precision=0.9000, ROC AUC=0.9485\n",
            "INFO:__main__:Trial 57: F1=0.8309, Recall=0.7458, Precision=0.7719, ROC AUC=0.8544\n",
            "INFO:__main__:Trial 58: F1=0.9009, Recall=0.8771, Precision=0.9039, ROC AUC=0.9517\n",
            "INFO:__main__:Trial 59: F1=0.8979, Recall=0.8856, Precision=0.8894, ROC AUC=0.9535\n",
            "INFO:__main__:Trial 60: F1=0.8547, Recall=0.8390, Precision=0.8319, ROC AUC=0.9026\n",
            "INFO:__main__:Trial 61: F1=0.9036, Recall=0.8644, Precision=0.8987, ROC AUC=0.9506\n",
            "INFO:__main__:Trial 62: F1=0.8989, Recall=0.8686, Precision=0.9031, ROC AUC=0.9509\n",
            "INFO:__main__:Trial 63: F1=0.9004, Recall=0.8686, Precision=0.8991, ROC AUC=0.9504\n",
            "INFO:__main__:Trial 64: F1=0.8997, Recall=0.8771, Precision=0.9039, ROC AUC=0.9493\n",
            "INFO:__main__:Trial 65: F1=0.8976, Recall=0.8686, Precision=0.8913, ROC AUC=0.9512\n",
            "INFO:__main__:Trial 66: F1=0.8926, Recall=0.8729, Precision=0.8879, ROC AUC=0.9497\n",
            "INFO:__main__:Trial 67: F1=0.8986, Recall=0.8644, Precision=0.9027, ROC AUC=0.9514\n",
            "INFO:__main__:Trial 68: F1=0.8967, Recall=0.8771, Precision=0.9039, ROC AUC=0.9494\n",
            "INFO:__main__:Trial 69: F1=0.8860, Recall=0.8729, Precision=0.8729, ROC AUC=0.9360\n",
            "INFO:__main__:Trial 70: F1=0.9005, Recall=0.8729, Precision=0.8996, ROC AUC=0.9492\n",
            "INFO:__main__:Trial 71: F1=0.9017, Recall=0.8602, Precision=0.9062, ROC AUC=0.9511\n",
            "INFO:__main__:Trial 72: F1=0.9009, Recall=0.8602, Precision=0.8982, ROC AUC=0.9510\n",
            "INFO:__main__:Trial 73: F1=0.9016, Recall=0.8602, Precision=0.9022, ROC AUC=0.9512\n",
            "INFO:__main__:Trial 74: F1=0.8968, Recall=0.8771, Precision=0.9039, ROC AUC=0.9513\n",
            "INFO:__main__:Trial 75: F1=0.9016, Recall=0.8602, Precision=0.9022, ROC AUC=0.9514\n",
            "INFO:__main__:Trial 76: F1=0.9017, Recall=0.8602, Precision=0.8982, ROC AUC=0.9511\n",
            "INFO:__main__:Trial 77: F1=0.9017, Recall=0.8602, Precision=0.8982, ROC AUC=0.9511\n",
            "INFO:__main__:Trial 78: F1=0.8968, Recall=0.8814, Precision=0.9083, ROC AUC=0.9525\n",
            "INFO:__main__:Trial 79: F1=0.8962, Recall=0.8771, Precision=0.9000, ROC AUC=0.9482\n",
            "INFO:__main__:Trial 80: F1=0.8958, Recall=0.8644, Precision=0.9027, ROC AUC=0.9504\n",
            "INFO:__main__:Trial 81: F1=0.9026, Recall=0.8602, Precision=0.9022, ROC AUC=0.9509\n",
            "INFO:__main__:Trial 82: F1=0.9001, Recall=0.8602, Precision=0.9022, ROC AUC=0.9510\n",
            "INFO:__main__:Trial 83: F1=0.8992, Recall=0.8729, Precision=0.8879, ROC AUC=0.9492\n",
            "INFO:__main__:Trial 84: F1=0.9036, Recall=0.8644, Precision=0.8987, ROC AUC=0.9506\n",
            "INFO:__main__:Trial 85: F1=0.9005, Recall=0.8644, Precision=0.9027, ROC AUC=0.9509\n",
            "INFO:__main__:Trial 86: F1=0.9017, Recall=0.8771, Precision=0.9000, ROC AUC=0.9495\n",
            "INFO:__main__:Trial 87: F1=0.8987, Recall=0.8771, Precision=0.9039, ROC AUC=0.9496\n",
            "INFO:__main__:Trial 88: F1=0.8887, Recall=0.8729, Precision=0.8879, ROC AUC=0.9503\n",
            "INFO:__main__:Trial 89: F1=0.9017, Recall=0.8686, Precision=0.8836, ROC AUC=0.9498\n",
            "INFO:__main__:Trial 90: F1=0.8925, Recall=0.8898, Precision=0.8974, ROC AUC=0.9531\n",
            "INFO:__main__:Trial 91: F1=0.9015, Recall=0.8644, Precision=0.8987, ROC AUC=0.9507\n",
            "INFO:__main__:Trial 92: F1=0.9024, Recall=0.8602, Precision=0.9022, ROC AUC=0.9512\n",
            "INFO:__main__:Trial 93: F1=0.8882, Recall=0.8729, Precision=0.8918, ROC AUC=0.9442\n",
            "INFO:__main__:Trial 94: F1=0.8993, Recall=0.8729, Precision=0.8879, ROC AUC=0.9493\n",
            "INFO:__main__:Trial 95: F1=0.8995, Recall=0.8644, Precision=0.9027, ROC AUC=0.9514\n",
            "INFO:__main__:Trial 96: F1=0.9023, Recall=0.8602, Precision=0.8982, ROC AUC=0.9506\n",
            "INFO:__main__:Trial 97: F1=0.8887, Recall=0.8729, Precision=0.8957, ROC AUC=0.9471\n",
            "INFO:__main__:Trial 98: F1=0.8983, Recall=0.8729, Precision=0.8918, ROC AUC=0.9491\n",
            "INFO:__main__:Trial 99: F1=0.8779, Recall=0.8771, Precision=0.8922, ROC AUC=0.9422\n"
          ]
        }
      ],
      "source": [
        "# Tối ưu hóa\n",
        "study = optuna.create_study(direction='maximize')\n",
        "study.optimize(objective_rf, n_trials=100)"
      ]
    },
    {
      "cell_type": "code",
      "execution_count": 8,
      "metadata": {
        "colab": {
          "base_uri": "https://localhost:8080/"
        },
        "id": "42gN-W4lNuEd",
        "outputId": "fd8b89a1-985b-420f-da49-a15e9b7f447d"
      },
      "outputs": [
        {
          "name": "stdout",
          "output_type": "stream",
          "text": [
            "\n",
            "Tham số tốt nhất cho Random Forest:\n",
            "{'n_estimators': 247, 'max_depth': 18, 'min_samples_split': 2, 'max_features': 'sqrt', 'criterion': 'gini'}\n",
            " F1 Score cross-validated tốt nhất: 0.9036\n",
            " Recall trên tập test: 0.8644\n",
            " Precision trên tập test: 0.8987\n",
            " ROC AUC trên tập test: 0.9506\n"
          ]
        }
      ],
      "source": [
        "# Lấy trial tốt nhất\n",
        "best_trial = study.best_trial\n",
        "print(\"\\nTham số tốt nhất cho Random Forest:\")\n",
        "print(best_trial.params)\n",
        "print(f\" F1 Score cross-validated tốt nhất: {best_trial.value:.4f}\")\n",
        "print(f\" Recall trên tập test: {best_trial.user_attrs['recall']:.4f}\")\n",
        "print(f\" Precision trên tập test: {best_trial.user_attrs['precision']:.4f}\")\n",
        "print(f\" ROC AUC trên tập test: {best_trial.user_attrs['roc_auc']:.4f}\")"
      ]
    },
    {
      "cell_type": "code",
      "execution_count": 9,
      "metadata": {
        "colab": {
          "base_uri": "https://localhost:8080/",
          "height": 98
        },
        "id": "iXg2xgpiN2zu",
        "outputId": "a044f0dd-4456-4520-c16e-b09a3cb92aed"
      },
      "outputs": [
        {
          "data": {
            "text/html": [
              "<style>#sk-container-id-1 {color: black;background-color: white;}#sk-container-id-1 pre{padding: 0;}#sk-container-id-1 div.sk-toggleable {background-color: white;}#sk-container-id-1 label.sk-toggleable__label {cursor: pointer;display: block;width: 100%;margin-bottom: 0;padding: 0.3em;box-sizing: border-box;text-align: center;}#sk-container-id-1 label.sk-toggleable__label-arrow:before {content: \"▸\";float: left;margin-right: 0.25em;color: #696969;}#sk-container-id-1 label.sk-toggleable__label-arrow:hover:before {color: black;}#sk-container-id-1 div.sk-estimator:hover label.sk-toggleable__label-arrow:before {color: black;}#sk-container-id-1 div.sk-toggleable__content {max-height: 0;max-width: 0;overflow: hidden;text-align: left;background-color: #f0f8ff;}#sk-container-id-1 div.sk-toggleable__content pre {margin: 0.2em;color: black;border-radius: 0.25em;background-color: #f0f8ff;}#sk-container-id-1 input.sk-toggleable__control:checked~div.sk-toggleable__content {max-height: 200px;max-width: 100%;overflow: auto;}#sk-container-id-1 input.sk-toggleable__control:checked~label.sk-toggleable__label-arrow:before {content: \"▾\";}#sk-container-id-1 div.sk-estimator input.sk-toggleable__control:checked~label.sk-toggleable__label {background-color: #d4ebff;}#sk-container-id-1 div.sk-label input.sk-toggleable__control:checked~label.sk-toggleable__label {background-color: #d4ebff;}#sk-container-id-1 input.sk-hidden--visually {border: 0;clip: rect(1px 1px 1px 1px);clip: rect(1px, 1px, 1px, 1px);height: 1px;margin: -1px;overflow: hidden;padding: 0;position: absolute;width: 1px;}#sk-container-id-1 div.sk-estimator {font-family: monospace;background-color: #f0f8ff;border: 1px dotted black;border-radius: 0.25em;box-sizing: border-box;margin-bottom: 0.5em;}#sk-container-id-1 div.sk-estimator:hover {background-color: #d4ebff;}#sk-container-id-1 div.sk-parallel-item::after {content: \"\";width: 100%;border-bottom: 1px solid gray;flex-grow: 1;}#sk-container-id-1 div.sk-label:hover label.sk-toggleable__label {background-color: #d4ebff;}#sk-container-id-1 div.sk-serial::before {content: \"\";position: absolute;border-left: 1px solid gray;box-sizing: border-box;top: 0;bottom: 0;left: 50%;z-index: 0;}#sk-container-id-1 div.sk-serial {display: flex;flex-direction: column;align-items: center;background-color: white;padding-right: 0.2em;padding-left: 0.2em;position: relative;}#sk-container-id-1 div.sk-item {position: relative;z-index: 1;}#sk-container-id-1 div.sk-parallel {display: flex;align-items: stretch;justify-content: center;background-color: white;position: relative;}#sk-container-id-1 div.sk-item::before, #sk-container-id-1 div.sk-parallel-item::before {content: \"\";position: absolute;border-left: 1px solid gray;box-sizing: border-box;top: 0;bottom: 0;left: 50%;z-index: -1;}#sk-container-id-1 div.sk-parallel-item {display: flex;flex-direction: column;z-index: 1;position: relative;background-color: white;}#sk-container-id-1 div.sk-parallel-item:first-child::after {align-self: flex-end;width: 50%;}#sk-container-id-1 div.sk-parallel-item:last-child::after {align-self: flex-start;width: 50%;}#sk-container-id-1 div.sk-parallel-item:only-child::after {width: 0;}#sk-container-id-1 div.sk-dashed-wrapped {border: 1px dashed gray;margin: 0 0.4em 0.5em 0.4em;box-sizing: border-box;padding-bottom: 0.4em;background-color: white;}#sk-container-id-1 div.sk-label label {font-family: monospace;font-weight: bold;display: inline-block;line-height: 1.2em;}#sk-container-id-1 div.sk-label-container {text-align: center;}#sk-container-id-1 div.sk-container {/* jupyter's `normalize.less` sets `[hidden] { display: none; }` but bootstrap.min.css set `[hidden] { display: none !important; }` so we also need the `!important` here to be able to override the default hidden behavior on the sphinx rendered scikit-learn.org. See: https://github.com/scikit-learn/scikit-learn/issues/21755 */display: inline-block !important;position: relative;}#sk-container-id-1 div.sk-text-repr-fallback {display: none;}</style><div id=\"sk-container-id-1\" class=\"sk-top-container\"><div class=\"sk-text-repr-fallback\"><pre>RandomForestClassifier(class_weight=&#x27;balanced&#x27;, max_depth=18, n_estimators=247,\n",
              "                       random_state=42)</pre><b>In a Jupyter environment, please rerun this cell to show the HTML representation or trust the notebook. <br />On GitHub, the HTML representation is unable to render, please try loading this page with nbviewer.org.</b></div><div class=\"sk-container\" hidden><div class=\"sk-item\"><div class=\"sk-estimator sk-toggleable\"><input class=\"sk-toggleable__control sk-hidden--visually\" id=\"sk-estimator-id-1\" type=\"checkbox\" checked><label for=\"sk-estimator-id-1\" class=\"sk-toggleable__label sk-toggleable__label-arrow\">RandomForestClassifier</label><div class=\"sk-toggleable__content\"><pre>RandomForestClassifier(class_weight=&#x27;balanced&#x27;, max_depth=18, n_estimators=247,\n",
              "                       random_state=42)</pre></div></div></div></div></div>"
            ],
            "text/plain": [
              "RandomForestClassifier(class_weight='balanced', max_depth=18, n_estimators=247,\n",
              "                       random_state=42)"
            ]
          },
          "execution_count": 9,
          "metadata": {},
          "output_type": "execute_result"
        }
      ],
      "source": [
        "# Train lại với toàn bộ tập huấn luyện\n",
        "final_model = RandomForestClassifier(**best_trial.params, class_weight='balanced', random_state=42)\n",
        "final_model.fit(X_train, y_train)"
      ]
    },
    {
      "cell_type": "code",
      "execution_count": 10,
      "metadata": {
        "colab": {
          "base_uri": "https://localhost:8080/"
        },
        "id": "s_ChL4w9lKHj",
        "outputId": "0c7dcc51-f268-40c4-afa4-266373f0931c"
      },
      "outputs": [
        {
          "name": "stdout",
          "output_type": "stream",
          "text": [
            "\n",
            "Đánh giá cuối cùng trên tập kiểm tra:\n",
            "F1 Score: 0.8812\n",
            "Recall: 0.8644\n",
            "Precision: 0.8987\n",
            "ROC AUC: 0.9506\n",
            "\n",
            "Báo cáo phân loại chi tiết:\n",
            "              precision    recall  f1-score   support\n",
            "\n",
            "           0      0.870     0.903     0.886       237\n",
            "           1      0.899     0.864     0.881       236\n",
            "\n",
            "    accuracy                          0.884       473\n",
            "   macro avg      0.884     0.884     0.884       473\n",
            "weighted avg      0.884     0.884     0.884       473\n",
            "\n"
          ]
        }
      ],
      "source": [
        "# Đánh giá cuối cùng trên tập kiểm tra\n",
        "y_pred = final_model.predict(X_test)\n",
        "y_proba = final_model.predict_proba(X_test)[:, 1]\n",
        "print(\"\\nĐánh giá cuối cùng trên tập kiểm tra:\")\n",
        "print(f\"F1 Score: {f1_score(y_test, y_pred):.4f}\")\n",
        "print(f\"Recall: {recall_score(y_test, y_pred):.4f}\")\n",
        "print(f\"Precision: {precision_score(y_test, y_pred):.4f}\")\n",
        "print(f\"ROC AUC: {roc_auc_score(y_test, y_proba):.4f}\")\n",
        "\n",
        "print(\"\\nBáo cáo phân loại chi tiết:\")\n",
        "print(classification_report(y_test, y_pred, digits=3))"
      ]
    },
    {
      "cell_type": "code",
      "execution_count": null,
      "metadata": {
        "colab": {
          "base_uri": "https://localhost:8080/"
        },
        "id": "p_2PdbVQJ0VR",
        "outputId": "a955ae39-997e-44bc-e8f3-58291e4479cb"
      },
      "outputs": [
        {
          "name": "stdout",
          "output_type": "stream",
          "text": [
            "\n",
            "Mô hình đã được lưu vào 'random_forest_model.pkl'\n"
          ]
        }
      ],
      "source": [
        "# Sau khi có best_params từ Optuna\n",
        "\n",
        "# 1. Huấn luyện trên TOÀN BỘ tập train gốc\n",
        "final_model = RandomForestClassifier(\n",
        "    **best_trial.params,\n",
        "    class_weight='balanced',\n",
        "    random_state=42\n",
        ")\n",
        "final_model.fit(X, y)  # Sử dụng toàn bộ dữ liệu X, y từ file gốc\n",
        "\n",
        "# 2. Lưu mô hình\n",
        "with open(r'random_forest_model.pkl', 'wb') as f:\n",
        "    pickle.dump(final_model, f)\n",
        "print(\"\\nMô hình đã được lưu vào 'random_forest_model.pkl'\")"
      ]
    },
    {
      "cell_type": "code",
      "execution_count": null,
      "metadata": {},
      "outputs": [],
      "source": []
    }
  ],
  "metadata": {
    "colab": {
      "provenance": []
    },
    "kernelspec": {
      "display_name": "base",
      "language": "python",
      "name": "python3"
    },
    "language_info": {
      "codemirror_mode": {
        "name": "ipython",
        "version": 3
      },
      "file_extension": ".py",
      "mimetype": "text/x-python",
      "name": "python",
      "nbconvert_exporter": "python",
      "pygments_lexer": "ipython3",
      "version": "3.11.7"
    }
  },
  "nbformat": 4,
  "nbformat_minor": 0
}
